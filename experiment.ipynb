{
 "cells": [
  {
   "cell_type": "code",
   "execution_count": 1,
   "metadata": {},
   "outputs": [],
   "source": [
    "from sentence_transformers import SentenceTransformer, util\n",
    "import torch.backends\n",
    "import torch.backends.mps\n",
    "import torch\n",
    "import rdflib\n",
    "from tqdm import tqdm\n",
    "\n",
    "\n",
    "BIOBERT = 'FremyCompany/BioLORD-2023' # this model accommodate semantic textual similarity\n",
    "device = 'gpu' if torch.cuda.is_available() else 'mps' if torch.backends.mps.is_available() else 'cpu'"
   ]
  },
  {
   "cell_type": "code",
   "execution_count": 2,
   "metadata": {},
   "outputs": [],
   "source": [
    "biobert_model = SentenceTransformer(BIOBERT, device=device)"
   ]
  },
  {
   "cell_type": "code",
   "execution_count": 3,
   "metadata": {},
   "outputs": [
    {
     "data": {
      "text/plain": [
       "<Graph identifier=Nd68083d6a1a6450e8e44326935e6573c (<class 'rdflib.graph.Graph'>)>"
      ]
     },
     "execution_count": 3,
     "metadata": {},
     "output_type": "execute_result"
    }
   ],
   "source": [
    "g1 = rdflib.Graph()\n",
    "g1.parse('test_bg.ttl', format='ttl')\n",
    "g2 = rdflib.Graph()\n",
    "g2.parse('test.ttl', format='ttl')"
   ]
  },
  {
   "cell_type": "code",
   "execution_count": 10,
   "metadata": {},
   "outputs": [
    {
     "name": "stderr",
     "output_type": "stream",
     "text": [
      "11it [00:02,  4.45it/s]\n",
      "19it [00:00, 61.47it/s]\n"
     ]
    }
   ],
   "source": [
    "# calculate embeddings for each predicate and object\n",
    "\n",
    "\n",
    "def get_embeddings(g):\n",
    "    embeddings = {}\n",
    "\n",
    "    def get_subject_embedding(s):\n",
    "        s_embeddings = []\n",
    "        for p, o in g.predicate_objects(subject=s):\n",
    "            if (p, o) in embeddings:\n",
    "                s_embeddings += [embeddings[(p,o)]]\n",
    "            else:\n",
    "                if not str(o).startswith('file'):  \n",
    "                    stacked_embeddings = biobert_model.encode([str(p), str(o)], convert_to_tensor=True)\n",
    "                    p_o_embedding = torch.mean(stacked_embeddings, 0)\n",
    "                else:\n",
    "                    o_embedding = get_subject_embedding(o)\n",
    "                    p_embedding = biobert_model.encode(str(p), convert_to_tensor=True)\n",
    "                    stacked_embeddings = torch.stack([p_embedding, o_embedding], dim=0)\n",
    "                    p_o_embedding = torch.mean(stacked_embeddings, 0)\n",
    "                s_embeddings += [p_o_embedding]\n",
    "                embeddings[(p,o)] = p_o_embedding\n",
    "        return torch.mean(torch.stack(s_embeddings, 0), 0)\n",
    "\n",
    "    subject_embeddings = {str(s).split('/')[-1]:get_subject_embedding(s) for s in tqdm(g.subjects())}\n",
    "            \n",
    "    return subject_embeddings\n",
    "\n",
    "g1_embeddings_dict = get_embeddings(g1)\n",
    "g2_embeddings_dict = get_embeddings(g2)"
   ]
  },
  {
   "cell_type": "code",
   "execution_count": 16,
   "metadata": {},
   "outputs": [],
   "source": [
    "def compare(G1_embeddings_dict, G2_embeddings_dict):\n",
    "    g1_keys, g1_embeddings = zip(*G1_embeddings_dict.items())\n",
    "    g2_keys, g2_embeddings = zip(*G2_embeddings_dict.items())\n",
    "    \n",
    "    g1_tensor = torch.stack(g1_embeddings)  # Shape: [len(dict1), embedding_dim]\n",
    "    g2_tensor = torch.stack(g2_embeddings)  # Shape: [len(dict2), embedding_dim]\n",
    "    \n",
    "    # Compute cosine similarity (matrix multiplication + normalization)\n",
    "    g1_norm = g1_tensor / g1_tensor.norm(dim=1, keepdim=True)\n",
    "    g2_norm = g2_tensor / g2_tensor.norm(dim=1, keepdim=True)\n",
    "    \n",
    "    # Retrieve top K matches for each entry in dict1\n",
    "    top_k = 1  # Change to desired number of top matches\n",
    "    \n",
    "    for k, e in G1_embeddings_dict.items():\n",
    "        cos_scores = util.pytorch_cos_sim(e, g2_tensor)[0]\n",
    "        top_results = torch.topk(cos_scores, top_k)\n",
    "        print(k)\n",
    "        for _, (score, idx) in enumerate(zip(top_results[0], top_results[1])):\n",
    "            print('   ', g1_keys[idx], float(score))\n"
   ]
  },
  {
   "cell_type": "code",
   "execution_count": 17,
   "metadata": {},
   "outputs": [
    {
     "name": "stdout",
     "output_type": "stream",
     "text": [
      "bg.json#bioProcID\n",
      "    bg.json#bioProcID 1.0\n",
      "bg.json#sourceID\n",
      "    bg.json#sourceID 1.0\n",
      "bg.json#sinkID\n",
      "    bg.json#sinkID 1.0\n",
      "bg.json#mediatorID\n",
      "    bg.json#mediatorID 1.0\n"
     ]
    }
   ],
   "source": [
    "compare(g1_embeddings_dict, g2_embeddings_dict)"
   ]
  },
  {
   "cell_type": "code",
   "execution_count": 18,
   "metadata": {},
   "outputs": [
    {
     "name": "stdout",
     "output_type": "stream",
     "text": [
      "test.cellml#sourceID2\n",
      "    test.cellml#sourceID2 1.0\n",
      "test.cellml#sinkID2\n",
      "    test.cellml#sinkID2 0.9999998807907104\n",
      "test.ttl#local_bioProcID2\n",
      "    test.ttl#local_bioProcID2 1.0\n",
      "test.ttl#local_sourceID2\n",
      "    test.ttl#local_sourceID2 1.0\n",
      "test.cellml#bioProcID2\n",
      "    test.cellml#bioProcID2 1.0\n",
      "test.ttl#local_sinkID2\n",
      "    test.ttl#local_sinkID2 1.0\n",
      "test.cellml#mediatorID2\n",
      "    test.cellml#mediatorID2 1.0\n",
      "test.ttl#local_mediatorID2\n",
      "    test.ttl#local_mediatorID2 1.0\n"
     ]
    }
   ],
   "source": [
    "compare(g2_embeddings_dict, g1_embeddings_dict)"
   ]
  }
 ],
 "metadata": {
  "kernelspec": {
   "display_name": "Python 3 (ipykernel)",
   "language": "python",
   "name": "python3"
  },
  "language_info": {
   "codemirror_mode": {
    "name": "ipython",
    "version": 3
   },
   "file_extension": ".py",
   "mimetype": "text/x-python",
   "name": "python",
   "nbconvert_exporter": "python",
   "pygments_lexer": "ipython3",
   "version": "3.12.3"
  }
 },
 "nbformat": 4,
 "nbformat_minor": 4
}
