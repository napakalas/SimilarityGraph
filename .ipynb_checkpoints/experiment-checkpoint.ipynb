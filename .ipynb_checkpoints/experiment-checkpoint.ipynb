{
 "cells": [
  {
   "cell_type": "code",
   "execution_count": 1,
   "metadata": {},
   "outputs": [],
   "source": [
    "from sentence_transformers import SentenceTransformer, util\n",
    "import torch.backends\n",
    "import torch.backends.mps\n",
    "import torch\n",
    "import rdflib\n",
    "from tqdm import tqdm\n",
    "\n",
    "\n",
    "BERTModel = 'multi-qa-mpnet-base-dot-v1'\n",
    "BIOBERT = 'FremyCompany/BioLORD-2023' # this model accommodate semantic textual similarity\n",
    "NLPModel = 'en_core_sci_lg'\n",
    "device = 'gpu' if torch.cuda.is_available() else 'mps' if torch.backends.mps.is_available() else 'cpu'"
   ]
  },
  {
   "cell_type": "code",
   "execution_count": 3,
   "metadata": {},
   "outputs": [
    {
     "data": {
      "application/vnd.jupyter.widget-view+json": {
       "model_id": "99fd0b7abe5a432582f165a2babb2be4",
       "version_major": 2,
       "version_minor": 0
      },
      "text/plain": [
       "model.safetensors:   0%|          | 0.00/438M [00:00<?, ?B/s]"
      ]
     },
     "metadata": {},
     "output_type": "display_data"
    }
   ],
   "source": [
    "biobert_model = SentenceTransformer(BIOBERT, device=device)"
   ]
  },
  {
   "cell_type": "code",
   "execution_count": 8,
   "metadata": {},
   "outputs": [
    {
     "data": {
      "text/plain": [
       "<Graph identifier=N97bc0a996cc74ba9afed79d08439f8f2 (<class 'rdflib.graph.Graph'>)>"
      ]
     },
     "execution_count": 8,
     "metadata": {},
     "output_type": "execute_result"
    }
   ],
   "source": [
    "g1 = rdflib.Graph()\n",
    "g1.parse('test_bg.ttl', format='ttl')\n",
    "g2 = rdflib.Graph()\n",
    "g2.parse('test.ttl', format='ttl')"
   ]
  },
  {
   "cell_type": "code",
   "execution_count": 51,
   "metadata": {},
   "outputs": [
    {
     "name": "stderr",
     "output_type": "stream",
     "text": [
      "11it [00:02,  5.08it/s]\n",
      "19it [00:00, 68.12it/s]\n"
     ]
    }
   ],
   "source": [
    "# calculate embeddings for each predicate and object\n",
    "\n",
    "\n",
    "def get_embeddings(g):\n",
    "    embeddings = {}\n",
    "\n",
    "    def get_subject_embedding(s):\n",
    "        s_embeddings = []\n",
    "        for p, o in g.predicate_objects(subject=s):\n",
    "            if (p, o) in embeddings:\n",
    "                s_embeddings += [embeddings[(p,o)]]\n",
    "            else:\n",
    "                if not str(o).startswith('file'):  \n",
    "                    stacked_embeddings = biobert_model.encode([str(p), str(o)], convert_to_tensor=True)\n",
    "                    p_o_embedding = torch.mean(stacked_embeddings, 0)\n",
    "                else:\n",
    "                    o_embedding = get_subject_embedding(o)\n",
    "                    p_embedding = biobert_model.encode(str(p), convert_to_tensor=True)\n",
    "                    stacked_embeddings = torch.stack([p_embedding, o_embedding], dim=0)\n",
    "                    p_o_embedding = torch.mean(stacked_embeddings, 0)\n",
    "                s_embeddings += [p_o_embedding]\n",
    "                embeddings[(p,o)] = p_o_embedding\n",
    "        return torch.mean(torch.stack(s_embeddings, 0), 0)\n",
    "\n",
    "    subject_embeddings = {str(s).split('/')[-1]:get_subject_embedding(s) for s in tqdm(g.subjects())}\n",
    "            \n",
    "    return subject_embeddings\n",
    "\n",
    "g1_embeddings_dict = get_embeddings(g1)\n",
    "g2_embeddings_dict = get_embeddings(g2)"
   ]
  },
  {
   "cell_type": "code",
   "execution_count": 54,
   "metadata": {},
   "outputs": [
    {
     "name": "stdout",
     "output_type": "stream",
     "text": [
      "Similarity Scores:\n",
      "\n",
      "bg.json#bioProcID:\n",
      "  test.ttl#local_bioProcID2: 1.0000\n",
      "\n",
      "bg.json#mediatorID:\n",
      "  test.cellml#sinkID2: 1.0000\n",
      "\n",
      "bg.json#sourceID:\n",
      "  test.ttl#local_sinkID2: 1.0000\n",
      "\n",
      "bg.json#sinkID:\n",
      "  test.ttl#local_sourceID2: 1.0000\n"
     ]
    }
   ],
   "source": [
    "g1_keys, g1_embeddings = zip(*g1_embeddings_dict.items())\n",
    "g2_keys, g2_embeddings = zip(*g2_embeddings_dict.items())\n",
    "\n",
    "g1_tensor = torch.stack(g1_embeddings)  # Shape: [len(dict1), embedding_dim]\n",
    "g2_tensor = torch.stack(g1_embeddings)  # Shape: [len(dict2), embedding_dim]\n",
    "\n",
    "# Compute cosine similarity (matrix multiplication + normalization)\n",
    "g1_norm = g1_tensor / g1_tensor.norm(dim=1, keepdim=True)\n",
    "g2_norm = g2_tensor / g2_tensor.norm(dim=1, keepdim=True)\n",
    "similarity_matrix = torch.mm(g1_norm, g2_norm.T)  # Shape: [len(dict1), len(dict2)]\n",
    "\n",
    "# Retrieve top N matches for each entry in dict1\n",
    "top_n = 1  # Change to desired number of top matches\n",
    "top_n_scores, top_n_indices = torch.topk(similarity_matrix, top_n, dim=1)\n",
    "\n",
    "# Map back to keys for results\n",
    "results = {}\n",
    "for i, key1 in enumerate(g1_keys):\n",
    "    matches = [(g2_keys[idx], top_n_scores[i, j].item()) for j, idx in enumerate(top_n_indices[i])]\n",
    "    results[key1] = matches\n",
    "\n",
    "# Print results\n",
    "print(\"Similarity Scores:\")\n",
    "for key1, matches in results.items():\n",
    "    print(f\"\\n{key1}:\")\n",
    "    for match in matches:\n",
    "        print(f\"  {match[0]}: {match[1]:.4f}\")\n"
   ]
  }
 ],
 "metadata": {
  "kernelspec": {
   "display_name": "Python 3 (ipykernel)",
   "language": "python",
   "name": "python3"
  },
  "language_info": {
   "codemirror_mode": {
    "name": "ipython",
    "version": 3
   },
   "file_extension": ".py",
   "mimetype": "text/x-python",
   "name": "python",
   "nbconvert_exporter": "python",
   "pygments_lexer": "ipython3",
   "version": "3.12.3"
  }
 },
 "nbformat": 4,
 "nbformat_minor": 4
}
